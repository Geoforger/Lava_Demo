{
 "cells": [
  {
   "cell_type": "markdown",
   "metadata": {},
   "source": [
    "## NeuroTac Spiking Neural Network Demo\n",
    "\n",
    "Intro paragraph or something here"
   ]
  },
  {
   "cell_type": "code",
   "execution_count": 1,
   "metadata": {},
   "outputs": [],
   "source": [
    "# Import libraries for data collection\n",
    "import sys\n",
    "sys.path.append(\"..\")\n",
    "from utils.data_gatherer_neurotac import DataCollector"
   ]
  },
  {
   "cell_type": "markdown",
   "metadata": {},
   "source": [
    "Here you can collect data from the neuroTac in real time"
   ]
  },
  {
   "cell_type": "code",
   "execution_count": 5,
   "metadata": {},
   "outputs": [],
   "source": [
    "# Collection code\n",
    "# sensor_type = 'DAVIS240C_84010012'\n",
    "sensor_type = \"NeuroTac_DVXplorer\"\n",
    "path = \"C:\\\\Users\\\\Ben\\OneDrive - University of Bristol\\\\repos\\\\Lava_Demo\\\\tests\"\n",
    "collector = DataCollector(sensor_type)\n",
    "data_path = collector.main(path=path)"
   ]
  },
  {
   "cell_type": "markdown",
   "metadata": {},
   "source": [
    "After collecting the data, within this particular demo, the data must be preprocessed before being passed into our pretrained spiking neural network"
   ]
  },
  {
   "cell_type": "code",
   "execution_count": 4,
   "metadata": {},
   "outputs": [
    {
     "name": "stderr",
     "output_type": "stream",
     "text": [
      "No CUDA runtime is found, using CUDA_HOME='C:\\Program Files\\NVIDIA GPU Computing Toolkit\\CUDA\\v11.7'\n"
     ]
    },
    {
     "ename": "IndexError",
     "evalue": "index -1 is out of bounds for axis 0 with size 0",
     "output_type": "error",
     "traceback": [
      "\u001b[1;31m---------------------------------------------------------------------------\u001b[0m",
      "\u001b[1;31mIndexError\u001b[0m                                Traceback (most recent call last)",
      "\u001b[1;32mc:\\Users\\Ben\\OneDrive - University of Bristol\\repos\\Lava_Demo\\src\\LinearDemo.ipynb Cell 6\u001b[0m line \u001b[0;36m1\n\u001b[0;32m     <a href='vscode-notebook-cell:/c%3A/Users/Ben/OneDrive%20-%20University%20of%20Bristol/repos/Lava_Demo/src/LinearDemo.ipynb#X24sZmlsZQ%3D%3D?line=9'>10</a>\u001b[0m data\u001b[39m.\u001b[39mremove_cuttoff(sample_length)\n\u001b[0;32m     <a href='vscode-notebook-cell:/c%3A/Users/Ben/OneDrive%20-%20University%20of%20Bristol/repos/Lava_Demo/src/LinearDemo.ipynb#X24sZmlsZQ%3D%3D?line=10'>11</a>\u001b[0m data\u001b[39m.\u001b[39mremove_duplicates()\n\u001b[1;32m---> <a href='vscode-notebook-cell:/c%3A/Users/Ben/OneDrive%20-%20University%20of%20Bristol/repos/Lava_Demo/src/LinearDemo.ipynb#X24sZmlsZQ%3D%3D?line=11'>12</a>\u001b[0m data\u001b[39m.\u001b[39;49mthreshold_pooling((\u001b[39m4\u001b[39;49m, \u001b[39m4\u001b[39;49m), \u001b[39m4\u001b[39;49m, \u001b[39m1\u001b[39;49m)\n\u001b[0;32m     <a href='vscode-notebook-cell:/c%3A/Users/Ben/OneDrive%20-%20University%20of%20Bristol/repos/Lava_Demo/src/LinearDemo.ipynb#X24sZmlsZQ%3D%3D?line=12'>13</a>\u001b[0m input_tensor \u001b[39m=\u001b[39m data\u001b[39m.\u001b[39mcreate_lava_array(sample_length)\n",
      "File \u001b[1;32mc:\\Users\\Ben\\OneDrive - University of Bristol\\repos\\Lava_Demo\\src\\..\\utils\\data_processor.py:401\u001b[0m, in \u001b[0;36mDataProcessor.threshold_pooling\u001b[1;34m(self, kernel_size, stride, threshold)\u001b[0m\n\u001b[0;32m    397\u001b[0m chips \u001b[39m=\u001b[39m \u001b[39mlist\u001b[39m(\u001b[39mzip\u001b[39m(chips_y, chips_x))\n\u001b[0;32m    399\u001b[0m \u001b[39m# Apply padding if required\u001b[39;00m\n\u001b[0;32m    400\u001b[0m \u001b[39m# If the final chip starting position along a dimension + chip size along the same dimension > number of pixels, pad the difference\u001b[39;00m\n\u001b[1;32m--> 401\u001b[0m y_remain \u001b[39m=\u001b[39m (chips_y[\u001b[39m-\u001b[39;49m\u001b[39m1\u001b[39;49m] \u001b[39m+\u001b[39m kernel_size[\u001b[39m0\u001b[39m]) \u001b[39m%\u001b[39m \u001b[39mself\u001b[39m\u001b[39m.\u001b[39mdata\u001b[39m.\u001b[39mshape[\u001b[39m0\u001b[39m]\n\u001b[0;32m    402\u001b[0m x_remain \u001b[39m=\u001b[39m (chips_x[\u001b[39m-\u001b[39m\u001b[39m1\u001b[39m] \u001b[39m+\u001b[39m kernel_size[\u001b[39m1\u001b[39m]) \u001b[39m%\u001b[39m \u001b[39mself\u001b[39m\u001b[39m.\u001b[39mdata\u001b[39m.\u001b[39mshape[\u001b[39m1\u001b[39m]\n\u001b[0;32m    404\u001b[0m \u001b[39m# Create a number of rows/columns (containing empty lists) equal to the remainder\u001b[39;00m\n",
      "\u001b[1;31mIndexError\u001b[0m: index -1 is out of bounds for axis 0 with size 0"
     ]
    }
   ],
   "source": [
    "from utils.data_processor import DataProcessor\n",
    "\n",
    "sample_length = 3000\n",
    "data = DataProcessor.load_data_np(f\"{data_path}.npy\")\n",
    "\n",
    "if sensor_type == \"DAVIS240C_84010012\":\n",
    "    data.pixel_reduction(40, 30, 20, 0)  # Crop data\n",
    "else:\n",
    "    data.pixel_reduction(184, 194, 120, 110)\n",
    "data.remove_cuttoff(sample_length)\n",
    "data.remove_duplicates()\n",
    "data.threshold_pooling((4, 4), 4, 1)\n",
    "input_tensor = data.create_lava_array(sample_length)"
   ]
  },
  {
   "cell_type": "markdown",
   "metadata": {},
   "source": [
    "Below we will create our lava process components that are required to feed data into the network and visualise the output of the network."
   ]
  },
  {
   "cell_type": "code",
   "execution_count": 4,
   "metadata": {},
   "outputs": [],
   "source": [
    "# Import all the components of our network\n",
    "from components.visualiser import Visualiser\n",
    "# from utils.utils import calculate_pooling_dim\n",
    "\n",
    "# Import lava related libraries\n",
    "# import numpy as np\n",
    "from lava.magma.core.run_configs import Loihi2SimCfg\n",
    "from lava.magma.core.run_conditions import RunSteps\n",
    "from lava.proc import io\n",
    "from lava.lib.dl import netx"
   ]
  },
  {
   "cell_type": "code",
   "execution_count": 5,
   "metadata": {},
   "outputs": [],
   "source": [
    "# Import trained network model\n",
    "if sensor_type == \"DAVIS240C_84010012\":\n",
    "    net = netx.hdf5.Network(net_config=\"../networks/davis_network.net\")\n",
    "else:\n",
    "    net = netx.hdf5.Network(net_config=\"../networks/explorer_network.net\")\n",
    "\n",
    "# Create input ring buffer containing our input tensor we collected and preprocessed\n",
    "source = io.source.RingBuffer(data=input_tensor)\n",
    "# Output ring buffer to contain output spikes\n",
    "sink = io.sink.RingBuffer(shape=(2,), buffer=sample_length)\n",
    "# Create a visualiser object that will let us see network output in real-time\n",
    "vis = Visualiser(in_shape=net.out.shape, sample_length=sample_length, window_size=250)"
   ]
  },
  {
   "cell_type": "code",
   "execution_count": 6,
   "metadata": {},
   "outputs": [],
   "source": [
    "# Connect processes\n",
    "source.s_out.connect(net.inp)\n",
    "net.out.connect(sink.a_in)\n",
    "net.out.connect(vis.a_in)"
   ]
  },
  {
   "cell_type": "code",
   "execution_count": 7,
   "metadata": {},
   "outputs": [],
   "source": [
    "# Run the network for long enough to get all of the data through the network\n",
    "run_condition = RunSteps(num_steps=sample_length)\n",
    "\n",
    "# Map the defined encoder and adapter to their proc models\n",
    "run_config = Loihi2SimCfg(select_tag='fixed_pt', select_sub_proc_model=True)"
   ]
  },
  {
   "cell_type": "markdown",
   "metadata": {},
   "source": [
    "Run the network and view the moving window of output spikes"
   ]
  },
  {
   "cell_type": "code",
   "execution_count": null,
   "metadata": {},
   "outputs": [
    {
     "data": {
      "image/png": "[encoded data removed]",
      "text/plain": [
       "<Figure size 1080x360 with 1 Axes>"
      ]
     },
     "metadata": {},
     "output_type": "display_data"
    }
   ],
   "source": [
    "# Run network\n",
    "print(\"Running network\")\n",
    "\n",
    "source.run(condition=run_condition, run_cfg=run_config)\n",
    "# Stop network execution\n",
    "source.stop()"
   ]
  }
 ],
 "metadata": {
  "kernelspec": {
   "display_name": "lava0.5",
   "language": "python",
   "name": "python3"
  },
  "language_info": {
   "codemirror_mode": {
    "name": "ipython",
    "version": 3
   },
   "file_extension": ".py",
   "mimetype": "text/x-python",
   "name": "python",
   "nbconvert_exporter": "python",
   "pygments_lexer": "ipython3",
   "version": "3.8.10"
  }
 },
 "nbformat": 4,
 "nbformat_minor": 2
}
