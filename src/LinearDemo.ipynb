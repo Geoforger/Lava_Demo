{
 "cells": [
  {
   "cell_type": "markdown",
   "metadata": {},
   "source": [
    "## NeuroTac Spiking Neural Network Demo\n",
    "\n",
    "Intro paragraph or something here"
   ]
  },
  {
   "cell_type": "code",
   "execution_count": null,
   "metadata": {},
   "outputs": [],
   "source": [
    "# Import libraries for data collection\n",
    "from utils.data_gatherer_neurotac import DataCollector"
   ]
  },
  {
   "cell_type": "markdown",
   "metadata": {},
   "source": [
    "Here you can collect data from the neuroTac in real time"
   ]
  },
  {
   "cell_type": "code",
   "execution_count": null,
   "metadata": {},
   "outputs": [],
   "source": [
    "# Collection code\n",
    "sensor_type = ''\n",
    "collector = DataCollector(sensor_type)"
   ]
  },
  {
   "cell_type": "markdown",
   "metadata": {},
   "source": [
    "After collecting the data, within this particular demo, the data must be preprocessed before being passed into our pretrained spiking neural network"
   ]
  },
  {
   "cell_type": "code",
   "execution_count": null,
   "metadata": {},
   "outputs": [],
   "source": [
    "import sys\n",
    "sys.path.append(\"..\")\n",
    "from utils.data_processor import DataProcessor\n",
    "\n",
    "sample_length = 3000\n",
    "data.pixel_reduction(184, 194, 120, 110)    # Crop data\n",
    "data.remove_cuttoff(sample_length)\n",
    "data.remove_duplicates()\n",
    "data.threshold_pooling((4,4), 4, 1)\n",
    "input_tensor = data.create_lava_array(sample_length)"
   ]
  },
  {
   "cell_type": "markdown",
   "metadata": {},
   "source": [
    "Below we will create our lava process components that are required to feed data into the network and visualise the output of the network."
   ]
  },
  {
   "cell_type": "code",
   "execution_count": null,
   "metadata": {},
   "outputs": [],
   "source": [
    "# Import all the components of our network\n",
    "from components.visualiser import Visualiser\n",
    "# from utils.utils import calculate_pooling_dim\n",
    "\n",
    "# Import lava related libraries\n",
    "# import numpy as np\n",
    "from lava.magma.core.run_configs import Loihi2SimCfg\n",
    "from lava.magma.core.run_conditions import RunSteps\n",
    "from lava.proc import io\n",
    "from lava.lib.dl import netx#, slayer"
   ]
  },
  {
   "cell_type": "code",
   "execution_count": null,
   "metadata": {},
   "outputs": [],
   "source": [
    "# Import trained network model\n",
    "net = netx.hdf5.Network(net_config=\"../networks/network.net\")\n",
    "# Create input ring buffer containing our input tensor we collected and preprocessed\n",
    "source = io.source.RingBuffer(shape=net.inp.shape, buffer=sample_length)\n",
    "# Output ring buffer to contain output spikes\n",
    "sink = io.sink.RingBuffer(shape=(2,), buffer=sample_length)\n",
    "# Create a visualiser object that will let us see network output in real-time\n",
    "vis = Visualiser(in_shape=net.out.shape, sample_length=sample_length, window_size=50)"
   ]
  },
  {
   "cell_type": "code",
   "execution_count": null,
   "metadata": {},
   "outputs": [],
   "source": [
    "# Connect processes\n",
    "source.s_out.connect(net.inp)\n",
    "net.out.connect(sink.a_in)\n",
    "net.out.connect(vis.a_in)"
   ]
  },
  {
   "cell_type": "code",
   "execution_count": null,
   "metadata": {},
   "outputs": [],
   "source": [
    "# Run the network for long enough to get all of the data through the network\n",
    "run_condition = RunSteps(num_steps=sample_length)\n",
    "\n",
    "# Map the defined encoder and adapter to their proc models\n",
    "run_config = Loihi2SimCfg(select_tag='fixed_pt', select_sub_proc_model=True)"
   ]
  },
  {
   "cell_type": "markdown",
   "metadata": {},
   "source": [
    "Run the network and view the moving window of output spikes"
   ]
  },
  {
   "cell_type": "code",
   "execution_count": null,
   "metadata": {},
   "outputs": [],
   "source": [
    "# Run network\n",
    "print(\"Running network\")\n",
    "\n",
    "source.run(condition=run_condition, run_cfg=run_config)\n",
    "# Stop network execution\n",
    "source.stop()"
   ]
  }
 ],
 "metadata": {
  "kernelspec": {
   "display_name": "lava0.5",
   "language": "python",
   "name": "python3"
  },
  "language_info": {
   "name": "python",
   "version": "3.10.8"
  }
 },
 "nbformat": 4,
 "nbformat_minor": 2
}
