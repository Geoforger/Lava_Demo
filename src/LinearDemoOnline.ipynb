{
 "cells": [
  {
   "cell_type": "markdown",
   "metadata": {},
   "source": [
    "## NeuroTac Spiking Neural Network Demo\n",
    "\n",
    "Intro paragraph or something here"
   ]
  },
  {
   "cell_type": "code",
   "execution_count": 1,
   "metadata": {},
   "outputs": [],
   "source": [
    "import sys\n",
    "sys.path.append(\"..\")\n",
    "sys.path.append(\".\")\n",
    "\n",
    "import unittest\n",
    "import numpy as np\n",
    "import typing as ty\n",
    "\n",
    "from lava.magma.core.process.process import AbstractProcess\n",
    "from lava.magma.core.process.ports.ports import InPort\n",
    "from lava.magma.core.process.variable import Var\n",
    "from lava.magma.core.resources import CPU\n",
    "from lava.magma.core.sync.protocols.loihi_protocol import LoihiProtocol\n",
    "from lava.magma.core.model.py.ports import PyInPort\n",
    "from lava.magma.core.model.py.type import LavaPyType\n",
    "from lava.magma.core.decorator import implements, requires\n",
    "from lava.magma.core.model.py.model import PyLoihiProcessModel\n",
    "from lava.magma.core.run_conditions import RunSteps\n",
    "from lava.magma.core.run_configs import Loihi1SimCfg\n",
    "from dv_stream import DvStream, DvStreamPM\n",
    "\n",
    "from lava.magma.core.model.py.ports import PyOutPort\n",
    "from lava.magma.core.process.ports.ports import OutPort\n",
    "from lava.utils.events import sub_sample, encode_data_and_indices\n",
    "\n",
    "from components.online_visualiser import OnlineVisualiser\n",
    "import matplotlib.pyplot as plt\n",
    "from IPython.display import display, clear_output\n",
    "\n",
    "\n",
    "class RecvSparse(AbstractProcess):\n",
    "    \"\"\"Process that receives arbitrary sparse data.\n",
    "\n",
    "    Parameters\n",
    "    ----------\n",
    "    shape: tuple\n",
    "        Shape of the InPort and Vars.\n",
    "    \"\"\"\n",
    "\n",
    "    def __init__(self,\n",
    "                 shape: ty.Tuple[int]) -> None:\n",
    "        super().__init__(shape=shape)\n",
    "\n",
    "        self.in_port = InPort(shape=shape)\n",
    "\n",
    "        self.data = Var(shape=shape, init=np.zeros(shape, dtype=int))\n",
    "        self.idx = Var(shape=shape, init=np.zeros(shape, dtype=int))\n",
    "\n",
    "\n",
    "@implements(proc=RecvSparse, protocol=LoihiProtocol)\n",
    "@requires(CPU)\n",
    "class PyRecvSparsePM(PyLoihiProcessModel):\n",
    "    \"\"\"Receives sparse data from PyInPort and stores a padded version of\n",
    "    received data and indices in Vars.\"\"\"\n",
    "    in_port: PyInPort = LavaPyType(PyInPort.VEC_SPARSE, int)\n",
    "\n",
    "    data: np.ndarray = LavaPyType(np.ndarray, int)\n",
    "    idx: np.ndarray = LavaPyType(np.ndarray, int)\n",
    "\n",
    "    def run_spk(self) -> None:\n",
    "        data, idx = self.in_port.recv()\n",
    "        print(data)\n",
    "\n",
    "        self.data = np.pad(data,\n",
    "                           pad_width=(0, self.in_port.shape[0] - data.shape[0]))\n",
    "        self.idx = np.pad(idx,\n",
    "                          pad_width=(0, self.in_port.shape[0] - data.shape[0]))\n",
    "\n"
   ]
  },
  {
   "cell_type": "markdown",
   "metadata": {},
   "source": [
    "Here you can collect data from the neuroTac in real time"
   ]
  },
  {
   "cell_type": "code",
   "execution_count": 2,
   "metadata": {},
   "outputs": [
    {
     "name": "stderr",
     "output_type": "stream",
     "text": [
      "c:\\Users\\bw14452\\AppData\\Local\\Continuum\\anaconda3\\envs\\lava\\lib\\site-packages\\lava\\magma\\compiler\\compiler_graphs.py:869: UserWarning: Cannot import module '<module 'LinearDemoOnline' from 'c:\\\\Users\\\\Ben\\\\OneDrive - University of Bristol\\\\repos\\\\Lava_Demo\\\\src\\\\LinearDemoOnline.py'>' when searching ProcessModels for Process 'DvStream'.\n",
      "  warnings.warn(\n"
     ]
    },
    {
     "name": "stdout",
     "output_type": "stream",
     "text": [
      "No CUDA runtime is found, using CUDA_HOME='C:\\Program Files\\NVIDIA GPU Computing Toolkit\\CUDA\\v11.7'\n"
     ]
    },
    {
     "name": "stderr",
     "output_type": "stream",
     "text": [
      "c:\\Users\\bw14452\\AppData\\Local\\Continuum\\anaconda3\\envs\\lava\\lib\\site-packages\\lava\\magma\\compiler\\compiler_graphs.py:869: UserWarning: Cannot import module '<module 'train_networks_dist' from 'c:\\\\Users\\\\Ben\\\\OneDrive - University of Bristol\\\\repos\\\\Lava_Demo\\\\src\\\\train_networks_dist.py'>' when searching ProcessModels for Process 'DvStream'.\n",
      "  warnings.warn(\n",
      "c:\\Users\\bw14452\\AppData\\Local\\Continuum\\anaconda3\\envs\\lava\\lib\\site-packages\\lava\\magma\\compiler\\compiler_graphs.py:869: UserWarning: Cannot import module '<module 'train_single_gpu' from 'c:\\\\Users\\\\Ben\\\\OneDrive - University of Bristol\\\\repos\\\\Lava_Demo\\\\src\\\\train_single_gpu.py'>' when searching ProcessModels for Process 'DvStream'.\n",
      "  warnings.warn(\n"
     ]
    }
   ],
   "source": [
    "\n",
    "max_num_events = 15\n",
    "shape_frame_in = (240, 180)\n",
    "dv_stream = DvStream(address=\"127.0.0.1\",\n",
    "                        port=52559,\n",
    "                        shape_out=(max_num_events,),\n",
    "                        shape_frame_in=shape_frame_in)\n",
    "\n",
    "# recv_sparse = RecvSparse(shape=(max_num_events,))\n",
    "vis = OnlineVisualiser(in_shape=(max_num_events,), sample_length=max_num_events, frame_shape=shape_frame_in)\n",
    "\n",
    "# dv_stream.out_port.connect(recv_sparse.in_port)\n",
    "dv_stream.out_port.connect(vis.a_in)\n",
    "\n",
    "num_steps = 1000\n",
    "run_cfg = Loihi1SimCfg()\n",
    "run_cnd = RunSteps(num_steps=num_steps)\n",
    "\n",
    "dv_stream.run(condition=run_cnd, run_cfg=run_cfg)            \n",
    "# for i in range(num_steps):\n",
    "#     dv_stream.run(condition=run_cnd, run_cfg=run_cfg)\n",
    "    \n",
    "    # received_data = recv_sparse.data.get()\n",
    "    # received_indices = recv_sparse.idx.get()\n",
    "\n",
    "    # print(received_data)\n",
    "    # print(received_indices)\n",
    "\n",
    "\n",
    "dv_stream.stop()\n"
   ]
  }
 ],
 "metadata": {
  "kernelspec": {
   "display_name": "lava0.5",
   "language": "python",
   "name": "python3"
  },
  "language_info": {
   "codemirror_mode": {
    "name": "ipython",
    "version": 3
   },
   "file_extension": ".py",
   "mimetype": "text/x-python",
   "name": "python",
   "nbconvert_exporter": "python",
   "pygments_lexer": "ipython3",
   "version": "3.9.18"
  }
 },
 "nbformat": 4,
 "nbformat_minor": 2
}
