{
 "cells": [
  {
   "cell_type": "code",
   "execution_count": 1,
   "metadata": {},
   "outputs": [
    {
     "name": "stderr",
     "output_type": "stream",
     "text": [
      "/home/george/anaconda3/envs/lava0.5/lib/python3.10/site-packages/tqdm/auto.py:21: TqdmWarning: IProgress not found. Please update jupyter and ipywidgets. See https://ipywidgets.readthedocs.io/en/stable/user_install.html\n",
      "  from .autonotebook import tqdm as notebook_tqdm\n"
     ]
    }
   ],
   "source": [
    "import sys\n",
    "sys.path.append(\"..\")\n",
    "from components.visualiser import Visualiser\n",
    "# Import lava related libraries\n",
    "import numpy as np\n",
    "from lava.magma.core.run_configs import Loihi2SimCfg\n",
    "from lava.magma.core.run_conditions import RunSteps\n",
    "from lava.proc import io\n",
    "from lava.lib.dl import netx, slayer"
   ]
  },
  {
   "cell_type": "code",
   "execution_count": 4,
   "metadata": {},
   "outputs": [
    {
     "name": "stderr",
     "output_type": "stream",
     "text": [
      "Exception ignored in: <function AbstractProcess.__del__ at 0x7fcc3174b7f0>\n",
      "Traceback (most recent call last):\n",
      "  File \"/home/george/anaconda3/envs/lava0.5/lib/python3.10/site-packages/lava/magma/core/process/process.py\", line 222, in __del__\n",
      "    self.stop()\n",
      "  File \"/home/george/anaconda3/envs/lava0.5/lib/python3.10/site-packages/lava/magma/core/process/process.py\", line 392, in stop\n",
      "    if self.runtime:\n",
      "  File \"/home/george/anaconda3/envs/lava0.5/lib/python3.10/site-packages/lava/magma/core/process/process.py\", line 277, in runtime\n",
      "    return self._runtime\n",
      "AttributeError: 'RingBuffer' object has no attribute '_runtime'\n"
     ]
    },
    {
     "ename": "TypeError",
     "evalue": "RingBuffer.__init__() got an unexpected keyword argument 'shape'",
     "output_type": "error",
     "traceback": [
      "\u001b[0;31m---------------------------------------------------------------------------\u001b[0m",
      "\u001b[0;31mTypeError\u001b[0m                                 Traceback (most recent call last)",
      "\u001b[1;32m/home/george/Documents/Lava_Demo/utils/display_test.ipynb Cell 2\u001b[0m line \u001b[0;36m5\n\u001b[1;32m      <a href='vscode-notebook-cell:/home/george/Documents/Lava_Demo/utils/display_test.ipynb#W1sZmlsZQ%3D%3D?line=1'>2</a>\u001b[0m sample_length \u001b[39m=\u001b[39m \u001b[39m100\u001b[39m\n\u001b[1;32m      <a href='vscode-notebook-cell:/home/george/Documents/Lava_Demo/utils/display_test.ipynb#W1sZmlsZQ%3D%3D?line=2'>3</a>\u001b[0m inp_array \u001b[39m=\u001b[39m np\u001b[39m.\u001b[39mones((input_shape, sample_length))\n\u001b[0;32m----> <a href='vscode-notebook-cell:/home/george/Documents/Lava_Demo/utils/display_test.ipynb#W1sZmlsZQ%3D%3D?line=4'>5</a>\u001b[0m source \u001b[39m=\u001b[39m io\u001b[39m.\u001b[39;49msource\u001b[39m.\u001b[39;49mRingBuffer(shape\u001b[39m=\u001b[39;49m(input_shape,), buffer\u001b[39m=\u001b[39;49minput_shape)\n\u001b[1;32m      <a href='vscode-notebook-cell:/home/george/Documents/Lava_Demo/utils/display_test.ipynb#W1sZmlsZQ%3D%3D?line=5'>6</a>\u001b[0m vis \u001b[39m=\u001b[39m Visualiser(in_shape\u001b[39m=\u001b[39m(input_shape,), sample_length\u001b[39m=\u001b[39minput_shape)\n",
      "File \u001b[0;32m~/anaconda3/envs/lava0.5/lib/python3.10/site-packages/lava/magma/core/process/process.py:33\u001b[0m, in \u001b[0;36mProcessPostInitCaller.__call__\u001b[0;34m(cls, *args, **kwargs)\u001b[0m\n\u001b[1;32m     32\u001b[0m \u001b[39mdef\u001b[39;00m \u001b[39m__call__\u001b[39m(\u001b[39mcls\u001b[39m, \u001b[39m*\u001b[39margs, \u001b[39m*\u001b[39m\u001b[39m*\u001b[39mkwargs):\n\u001b[0;32m---> 33\u001b[0m     obj \u001b[39m=\u001b[39m \u001b[39mtype\u001b[39;49m\u001b[39m.\u001b[39;49m\u001b[39m__call__\u001b[39;49m(\u001b[39mcls\u001b[39;49m, \u001b[39m*\u001b[39;49margs, \u001b[39m*\u001b[39;49m\u001b[39m*\u001b[39;49mkwargs)\n\u001b[1;32m     34\u001b[0m     \u001b[39mgetattr\u001b[39m(obj, \u001b[39m\"\u001b[39m\u001b[39m_post_init\u001b[39m\u001b[39m\"\u001b[39m)()\n\u001b[1;32m     35\u001b[0m     \u001b[39mreturn\u001b[39;00m obj\n",
      "\u001b[0;31mTypeError\u001b[0m: RingBuffer.__init__() got an unexpected keyword argument 'shape'"
     ]
    }
   ],
   "source": [
    "input_shape = 10\n",
    "sample_length = 100\n",
    "inp_array = np.ones((input_shape, sample_length))\n",
    "\n",
    "source = io.source.RingBuffer(shape=(input_shape,), buffer=input_shape, data=inp_array)\n",
    "vis = Visualiser(in_shape=(input_shape,), sample_length=input_shape)"
   ]
  },
  {
   "cell_type": "code",
   "execution_count": null,
   "metadata": {},
   "outputs": [],
   "source": []
  },
  {
   "cell_type": "code",
   "execution_count": null,
   "metadata": {},
   "outputs": [],
   "source": [
    "source.s_out.connect(vis.a_in)"
   ]
  },
  {
   "cell_type": "code",
   "execution_count": null,
   "metadata": {},
   "outputs": [],
   "source": []
  }
 ],
 "metadata": {
  "kernelspec": {
   "display_name": "lava_franka",
   "language": "python",
   "name": "python3"
  },
  "language_info": {
   "codemirror_mode": {
    "name": "ipython",
    "version": 3
   },
   "file_extension": ".py",
   "mimetype": "text/x-python",
   "name": "python",
   "nbconvert_exporter": "python",
   "pygments_lexer": "ipython3",
   "version": "3.10.8"
  }
 },
 "nbformat": 4,
 "nbformat_minor": 2
}
