{
 "cells": [
  {
   "cell_type": "code",
   "execution_count": 1,
   "metadata": {},
   "outputs": [
    {
     "name": "stderr",
     "output_type": "stream",
     "text": [
      "/home/george/anaconda3/envs/lava0.5/lib/python3.10/site-packages/tqdm/auto.py:21: TqdmWarning: IProgress not found. Please update jupyter and ipywidgets. See https://ipywidgets.readthedocs.io/en/stable/user_install.html\n",
      "  from .autonotebook import tqdm as notebook_tqdm\n"
     ]
    }
   ],
   "source": [
    "import sys\n",
    "sys.path.append(\"..\")\n",
    "from components.visualiser import Visualiser\n",
    "# Import lava related libraries\n",
    "import numpy as np\n",
    "from lava.magma.core.run_configs import Loihi2SimCfg\n",
    "from lava.magma.core.run_conditions import RunSteps\n",
    "from lava.proc import io\n",
    "from lava.lib.dl import netx, slayer"
   ]
  },
  {
   "cell_type": "code",
   "execution_count": 3,
   "metadata": {},
   "outputs": [],
   "source": [
    "input_shape = 10\n",
    "sample_length = 100\n",
    "inp_array = np.ones((input_shape, sample_length))\n",
    "\n",
    "source = io.source.RingBuffer(data=inp_array)\n",
    "vis = Visualiser(in_shape=(input_shape,), sample_length=sample_length)"
   ]
  },
  {
   "cell_type": "code",
   "execution_count": 4,
   "metadata": {},
   "outputs": [],
   "source": [
    "source.s_out.connect(vis.a_in)"
   ]
  },
  {
   "cell_type": "code",
   "execution_count": 5,
   "metadata": {},
   "outputs": [
    {
     "name": "stdout",
     "output_type": "stream",
     "text": [
      "Running network\n",
      "Encountered Fatal Exception: VisualiserModel.__init__() takes 1 positional argument but 2 were givenTraceback: \n",
      "\n",
      "Traceback (most recent call last):\n",
      "  File \"/home/george/lava/src/lava/magma/runtime/runtime.py\", line 94, in target_fn\n",
      "    actor = builder.build()\n",
      "  File \"/home/george/lava/src/lava/magma/compiler/builders/py_builder.py\", line 273, in build\n",
      "    pm = self.proc_model(self.proc_params)\n",
      "TypeError: VisualiserModel.__init__() takes 1 positional argument but 2 were given\n",
      "\n"
     ]
    },
    {
     "ename": "KeyboardInterrupt",
     "evalue": "",
     "output_type": "error",
     "traceback": [
      "\u001b[0;31m---------------------------------------------------------------------------\u001b[0m",
      "\u001b[0;31mKeyboardInterrupt\u001b[0m                         Traceback (most recent call last)",
      "\u001b[1;32m/home/george/Documents/Lava_Demo/utils/display_test.ipynb Cell 4\u001b[0m line \u001b[0;36m1\n\u001b[1;32m      <a href='vscode-notebook-cell:/home/george/Documents/Lava_Demo/utils/display_test.ipynb#W3sZmlsZQ%3D%3D?line=5'>6</a>\u001b[0m \u001b[39m#################################################\u001b[39;00m\n\u001b[1;32m      <a href='vscode-notebook-cell:/home/george/Documents/Lava_Demo/utils/display_test.ipynb#W3sZmlsZQ%3D%3D?line=6'>7</a>\u001b[0m \u001b[39m# Run network\u001b[39;00m\n\u001b[1;32m      <a href='vscode-notebook-cell:/home/george/Documents/Lava_Demo/utils/display_test.ipynb#W3sZmlsZQ%3D%3D?line=7'>8</a>\u001b[0m \u001b[39m#################################################\u001b[39;00m\n\u001b[1;32m      <a href='vscode-notebook-cell:/home/george/Documents/Lava_Demo/utils/display_test.ipynb#W3sZmlsZQ%3D%3D?line=8'>9</a>\u001b[0m \u001b[39m# Run network\u001b[39;00m\n\u001b[1;32m     <a href='vscode-notebook-cell:/home/george/Documents/Lava_Demo/utils/display_test.ipynb#W3sZmlsZQ%3D%3D?line=9'>10</a>\u001b[0m \u001b[39mprint\u001b[39m(\u001b[39m\"\u001b[39m\u001b[39mRunning network\u001b[39m\u001b[39m\"\u001b[39m)\n\u001b[0;32m---> <a href='vscode-notebook-cell:/home/george/Documents/Lava_Demo/utils/display_test.ipynb#W3sZmlsZQ%3D%3D?line=11'>12</a>\u001b[0m vis\u001b[39m.\u001b[39;49mrun(condition\u001b[39m=\u001b[39;49mrun_condition, run_cfg\u001b[39m=\u001b[39;49mrun_config)\n",
      "File \u001b[0;32m~/lava/src/lava/magma/core/process/process.py:351\u001b[0m, in \u001b[0;36mAbstractProcess.run\u001b[0;34m(self, condition, run_cfg, compile_config)\u001b[0m\n\u001b[1;32m    347\u001b[0m         \u001b[39mraise\u001b[39;00m \u001b[39mValueError\u001b[39;00m(\u001b[39m\"\u001b[39m\u001b[39mrun_cfg must not be None when calling\u001b[39m\u001b[39m\"\u001b[39m\n\u001b[1;32m    348\u001b[0m                          \u001b[39m\"\u001b[39m\u001b[39m Process.run() unless the process has already\u001b[39m\u001b[39m\"\u001b[39m\n\u001b[1;32m    349\u001b[0m                          \u001b[39m\"\u001b[39m\u001b[39m been compiled.\u001b[39m\u001b[39m\"\u001b[39m)\n\u001b[1;32m    350\u001b[0m     \u001b[39mself\u001b[39m\u001b[39m.\u001b[39mcreate_runtime(run_cfg\u001b[39m=\u001b[39mrun_cfg, compile_config\u001b[39m=\u001b[39mcompile_config)\n\u001b[0;32m--> 351\u001b[0m \u001b[39mself\u001b[39;49m\u001b[39m.\u001b[39;49m_runtime\u001b[39m.\u001b[39;49mstart(condition)\n",
      "File \u001b[0;32m~/lava/src/lava/magma/runtime/runtime.py:329\u001b[0m, in \u001b[0;36mRuntime.start\u001b[0;34m(self, run_condition)\u001b[0m\n\u001b[1;32m    326\u001b[0m \u001b[39mif\u001b[39;00m \u001b[39mself\u001b[39m\u001b[39m.\u001b[39m_is_initialized:\n\u001b[1;32m    327\u001b[0m     \u001b[39m# Start running\u001b[39;00m\n\u001b[1;32m    328\u001b[0m     \u001b[39mself\u001b[39m\u001b[39m.\u001b[39m_is_started \u001b[39m=\u001b[39m \u001b[39mTrue\u001b[39;00m\n\u001b[0;32m--> 329\u001b[0m     \u001b[39mself\u001b[39;49m\u001b[39m.\u001b[39;49m_run(run_condition)\n\u001b[1;32m    330\u001b[0m \u001b[39melse\u001b[39;00m:\n\u001b[1;32m    331\u001b[0m     \u001b[39mself\u001b[39m\u001b[39m.\u001b[39mlog\u001b[39m.\u001b[39minfo(\u001b[39m\"\u001b[39m\u001b[39mRuntime not initialized yet.\u001b[39m\u001b[39m\"\u001b[39m)\n",
      "File \u001b[0;32m~/lava/src/lava/magma/runtime/runtime.py:347\u001b[0m, in \u001b[0;36mRuntime._run\u001b[0;34m(self, run_condition)\u001b[0m\n\u001b[1;32m    345\u001b[0m         send_port\u001b[39m.\u001b[39msend(enum_to_np(\u001b[39mself\u001b[39m\u001b[39m.\u001b[39mnum_steps))\n\u001b[1;32m    346\u001b[0m     \u001b[39mif\u001b[39;00m run_condition\u001b[39m.\u001b[39mblocking:\n\u001b[0;32m--> 347\u001b[0m         \u001b[39mself\u001b[39;49m\u001b[39m.\u001b[39;49m_get_resp_for_run()\n\u001b[1;32m    348\u001b[0m \u001b[39melif\u001b[39;00m \u001b[39misinstance\u001b[39m(run_condition, RunContinuous):\n\u001b[1;32m    349\u001b[0m     \u001b[39mself\u001b[39m\u001b[39m.\u001b[39mnum_steps \u001b[39m=\u001b[39m sys\u001b[39m.\u001b[39mmaxsize\n",
      "File \u001b[0;32m~/lava/src/lava/magma/runtime/runtime.py:290\u001b[0m, in \u001b[0;36mRuntime._get_resp_for_run\u001b[0;34m(self)\u001b[0m\n\u001b[1;32m    288\u001b[0m rsps \u001b[39m=\u001b[39m []\n\u001b[1;32m    289\u001b[0m \u001b[39mwhile\u001b[39;00m \u001b[39mTrue\u001b[39;00m:\n\u001b[0;32m--> 290\u001b[0m     recv_port \u001b[39m=\u001b[39m selector\u001b[39m.\u001b[39;49mselect(\u001b[39m*\u001b[39;49mchannel_actions)\n\u001b[1;32m    291\u001b[0m     data \u001b[39m=\u001b[39m recv_port\u001b[39m.\u001b[39mrecv()\n\u001b[1;32m    292\u001b[0m     rsps\u001b[39m.\u001b[39mappend(data)\n",
      "File \u001b[0;32m~/lava/src/lava/magma/compiler/channels/pypychannel.py:339\u001b[0m, in \u001b[0;36mCspSelector.select\u001b[0;34m(self, *channel_actions)\u001b[0m\n\u001b[1;32m    337\u001b[0m         \u001b[39mself\u001b[39m\u001b[39m.\u001b[39m_set_observer(channel_actions, \u001b[39mNone\u001b[39;00m)\n\u001b[1;32m    338\u001b[0m         \u001b[39mreturn\u001b[39;00m action()\n\u001b[0;32m--> 339\u001b[0m \u001b[39mself\u001b[39;49m\u001b[39m.\u001b[39;49m_cv\u001b[39m.\u001b[39;49mwait()\n",
      "File \u001b[0;32m~/anaconda3/envs/lava0.5/lib/python3.10/threading.py:320\u001b[0m, in \u001b[0;36mCondition.wait\u001b[0;34m(self, timeout)\u001b[0m\n\u001b[1;32m    318\u001b[0m \u001b[39mtry\u001b[39;00m:    \u001b[39m# restore state no matter what (e.g., KeyboardInterrupt)\u001b[39;00m\n\u001b[1;32m    319\u001b[0m     \u001b[39mif\u001b[39;00m timeout \u001b[39mis\u001b[39;00m \u001b[39mNone\u001b[39;00m:\n\u001b[0;32m--> 320\u001b[0m         waiter\u001b[39m.\u001b[39;49macquire()\n\u001b[1;32m    321\u001b[0m         gotit \u001b[39m=\u001b[39m \u001b[39mTrue\u001b[39;00m\n\u001b[1;32m    322\u001b[0m     \u001b[39melse\u001b[39;00m:\n",
      "\u001b[0;31mKeyboardInterrupt\u001b[0m: "
     ]
    }
   ],
   "source": [
    "run_condition = RunSteps(num_steps=sample_length)\n",
    "\n",
    "# Map the defined encoder and adapter to their proc models\n",
    "run_config = Loihi2SimCfg(select_tag='fixed_pt', select_sub_proc_model=True)\n",
    "\n",
    "#################################################\n",
    "# Run network\n",
    "#################################################\n",
    "# Run network\n",
    "print(\"Running network\")\n",
    "\n",
    "vis.run(condition=run_condition, run_cfg=run_config)"
   ]
  }
 ],
 "metadata": {
  "kernelspec": {
   "display_name": "lava_franka",
   "language": "python",
   "name": "python3"
  },
  "language_info": {
   "codemirror_mode": {
    "name": "ipython",
    "version": 3
   },
   "file_extension": ".py",
   "mimetype": "text/x-python",
   "name": "python",
   "nbconvert_exporter": "python",
   "pygments_lexer": "ipython3",
   "version": "3.10.8"
  }
 },
 "nbformat": 4,
 "nbformat_minor": 2
}
